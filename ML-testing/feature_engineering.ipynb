{
 "cells": [
  {
   "cell_type": "code",
   "execution_count": 4,
   "metadata": {},
   "outputs": [],
   "source": [
    "import pandas as pd\n",
    "import numpy as np\n",
    "from sklearn.model_selection import train_test_split, GridSearchCV\n",
    "from sklearn.preprocessing import StandardScaler\n",
    "from sklearn.pipeline import Pipeline\n",
    "from imblearn.over_sampling import SMOTE\n",
    "from sklearn.ensemble import GradientBoostingRegressor, RandomForestRegressor\n",
    "from xgboost import XGBRegressor\n",
    "from sklearn.ensemble import StackingRegressor\n",
    "from sklearn.linear_model import LinearRegression\n",
    "from sklearn.metrics import mean_absolute_error, mean_squared_error, r2_score\n",
    "import joblib\n",
    "import shap\n",
    "import matplotlib.pyplot as plt\n",
    "\n",
    "# Load the dataset\n",
    "data_path = 'merged_data10.csv'\n",
    "data = pd.read_csv(data_path)\n",
    "\n",
    "# Convert 'datostøpt' to datetime\n",
    "data['datostøpt'] = pd.to_datetime(data['datostøpt'])\n",
    "\n",
    "# Feature Engineering\n",
    "data['absolute_humidity'] = (data['Humidity']*2856)/(461.5*data['Temperature']*100)\n",
    "data['absolute_humidity_3h_avg'] = (data['Humidity_3h_avg']*2856)/(461.5*data['Temperature_3h_avg']*100)\n",
    "data['dew_point_diff'] = data['Dew Point'] - data['Temperature']\n",
    "data['dew_point_3h_diff'] = data['Dew_Point_3h_avg'] - data['Temperature_3h_avg']\n",
    "\n",
    "# Random combinations of important features\n",
    "data['temp_humidity'] = data['Temperature'] * data['Humidity']\n",
    "data['temp_12h_humidity'] = data['Temperature_12h_avg'] * data['Humidity']\n",
    "data['temp_inlet_humidity'] = data['Temperature inlet'] * data['Humidity']\n",
    "data['temp_inlet_12h_humidity'] = data['Temperature_inlet_12h_avg'] * data['Humidity']\n",
    "\n",
    "if 'time_sin' in data.columns:\n",
    "    data = data.drop(columns=['time_sin'])\n",
    "if 'time_cos' in data.columns:\n",
    "    data = data.drop(columns=['time_cos'])\n",
    "\n",
    "data.to_csv('merged_data11.csv',index=False)\n",
    "\n"
   ]
  }
 ],
 "metadata": {
  "kernelspec": {
   "display_name": "Python 3",
   "language": "python",
   "name": "python3"
  },
  "language_info": {
   "codemirror_mode": {
    "name": "ipython",
    "version": 3
   },
   "file_extension": ".py",
   "mimetype": "text/x-python",
   "name": "python",
   "nbconvert_exporter": "python",
   "pygments_lexer": "ipython3",
   "version": "3.11.5"
  }
 },
 "nbformat": 4,
 "nbformat_minor": 2
}
