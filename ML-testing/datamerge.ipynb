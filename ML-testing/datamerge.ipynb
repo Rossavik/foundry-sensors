{
 "cells": [
  {
   "cell_type": "code",
   "execution_count": 2,
   "metadata": {},
   "outputs": [],
   "source": [
    "import pandas as pd\n",
    "\n",
    "# Load the datasets\n",
    "updated_filtered_data = pd.read_csv('cleaned_filtered_merged_sensor_weather_data.csv')\n"
   ]
  },
  {
   "cell_type": "code",
   "execution_count": 3,
   "metadata": {},
   "outputs": [],
   "source": [
    "def replace_consecutive_values(df, column, threshold=60):\n",
    "    consecutive_count = 0\n",
    "    current_value = None\n",
    "    for i in range(len(df)):\n",
    "        if df[column].iloc[i] == current_value:\n",
    "            consecutive_count += 1\n",
    "        else:\n",
    "            if consecutive_count > threshold:\n",
    "                df.loc[i - consecutive_count:i, column] = pd.NA\n",
    "            current_value = df[column].iloc[i]\n",
    "            consecutive_count = 1\n",
    "    if consecutive_count > threshold:\n",
    "        df.loc[len(df) - consecutive_count:len(df), column] = pd.NA\n",
    "    return df\n",
    "\n",
    "for col in ['Temperature', 'Humidity', 'Temperature inlet']:\n",
    "    replace_consecutive_values(updated_filtered_data, col)\n",
    "\n",
    "updated_filtered_data.to_csv('final_cleaned_filtered_sensor_weather_data.csv', index=False)\n"
   ]
  },
  {
   "cell_type": "code",
   "execution_count": 5,
   "metadata": {},
   "outputs": [],
   "source": [
    "updated_filtered_data['Nedbør (12 t)'].fillna(0, inplace=True)\n",
    "updated_filtered_data['Time'] = pd.to_datetime(updated_filtered_data['Time'])\n",
    "\n",
    "cleaned_data_strict = updated_filtered_data[\n",
    "    ~(\n",
    "        (updated_filtered_data['Time'].dt.month >= 9) & \n",
    "        (updated_filtered_data['Time'].dt.month <= 12) & \n",
    "        (updated_filtered_data[['Temperature', 'Humidity', 'Temperature inlet']].isna().all(axis=1))\n",
    "    )\n",
    "]"
   ]
  },
  {
   "cell_type": "code",
   "execution_count": 6,
   "metadata": {},
   "outputs": [],
   "source": [
    "cleaned_data_strict.to_csv('merged_data3.csv', index=False)"
   ]
  },
  {
   "cell_type": "code",
   "execution_count": 7,
   "metadata": {},
   "outputs": [],
   "source": [
    "merged_data = pd.read_csv('merged_data5.csv')"
   ]
  },
  {
   "cell_type": "code",
   "execution_count": 8,
   "metadata": {},
   "outputs": [],
   "source": [
    "merged_data['Dew Point'] = merged_data['Temperature'] - ((100 - merged_data['Humidity']) / 5)"
   ]
  },
  {
   "cell_type": "code",
   "execution_count": 9,
   "metadata": {},
   "outputs": [],
   "source": [
    "merged_data.to_csv('merged_data6.csv')"
   ]
  },
  {
   "cell_type": "code",
   "execution_count": 10,
   "metadata": {},
   "outputs": [],
   "source": [
    "import numpy as np"
   ]
  },
  {
   "cell_type": "code",
   "execution_count": 12,
   "metadata": {},
   "outputs": [],
   "source": [
    "final_merged_data = merged_data\n",
    "\n",
    "final_merged_data['Time'] = pd.to_datetime(final_merged_data['Time'])\n",
    "\n",
    "final_merged_data['hour'] = final_merged_data['Time'].dt.hour\n",
    "final_merged_data['day_of_year'] = final_merged_data['Time'].dt.dayofyear\n",
    "\n",
    "# Compute sine and cosine for time of day\n",
    "final_merged_data['time_sine'] = np.sin(2 * np.pi * final_merged_data['hour'] / 24)\n",
    "final_merged_data['time_cosine'] = np.cos(2 * np.pi * final_merged_data['hour'] / 24)\n",
    "\n",
    "# Compute sine and cosine for day of the year\n",
    "final_merged_data['day_sine'] = np.sin(2 * np.pi * final_merged_data['day_of_year'] / 365)\n",
    "final_merged_data['day_cosine'] = np.cos(2 * np.pi * final_merged_data['day_of_year'] / 365)\n",
    "\n",
    "# Drop the intermediate 'hour' and 'day_of_year' columns\n",
    "final_merged_data.drop(columns=['hour', 'day_of_year'], inplace=True)\n",
    "\n",
    "final_merged_data.to_csv('merged_data7.csv')"
   ]
  },
  {
   "cell_type": "code",
   "execution_count": 16,
   "metadata": {},
   "outputs": [],
   "source": [
    "# Ensure 'Time' is in datetime format\n",
    "#final_merged_data['Time'] = pd.to_datetime(final_merged_data['Time'])\n",
    "\n",
    "# Set 'Time' as the index\n",
    "#final_merged_data.set_index('Time', inplace=True)\n",
    "\n",
    "# Compute 3-hour rolling averages\n",
    "final_merged_data['Temperature_3h_avg'] = final_merged_data['Temperature'].rolling(window='3H', min_periods=1).mean()\n",
    "final_merged_data['Humidity_3h_avg'] = final_merged_data['Humidity'].rolling(window='3H', min_periods=1).mean()\n",
    "final_merged_data['Temperature_inlet_3h_avg'] = final_merged_data['Temperature inlet'].rolling(window='3H', min_periods=1).mean()\n",
    "final_merged_data['Dew_Point_3h_avg'] = final_merged_data['Dew Point'].rolling(window='3H', min_periods=1).mean()\n",
    "\n",
    "# Compute 12-hour rolling averages\n",
    "final_merged_data['Temperature_12h_avg'] = final_merged_data['Temperature'].rolling(window='12H', min_periods=1).mean()\n",
    "final_merged_data['Humidity_12h_avg'] = final_merged_data['Humidity'].rolling(window='12H', min_periods=1).mean()\n",
    "final_merged_data['Temperature_inlet_12h_avg'] = final_merged_data['Temperature inlet'].rolling(window='12H', min_periods=1).mean()\n",
    "final_merged_data['Dew_Point_12h_avg'] = final_merged_data['Dew Point'].rolling(window='12H', min_periods=1).mean()\n",
    "\n",
    "final_merged_data.to_csv('merged_data8.csv')\n"
   ]
  },
  {
   "cell_type": "code",
   "execution_count": 20,
   "metadata": {},
   "outputs": [
    {
     "data": {
      "text/plain": [
       "'merged_data9.csv'"
      ]
     },
     "execution_count": 20,
     "metadata": {},
     "output_type": "execute_result"
    }
   ],
   "source": [
    "data = pd.read_csv('merged_data8.csv')\n",
    "cast_error_points = pd.read_csv('cast_error_data_updated.csv')\n",
    "\n",
    "cast_error_points['datostøpt'] = pd.to_datetime(cast_error_points['datostøpt'])\n",
    "data['Time'] = pd.to_datetime(data['Time'])\n",
    "\n",
    "# Resample the cast error data to the closest hour\n",
    "cast_error_points['datostøpt'] = cast_error_points['datostøpt'].dt.round('H')\n",
    "\n",
    "# Merge the resampled cast error data with the sensor and weather data\n",
    "merged_cast_error_with_sensor = pd.merge(\n",
    "    cast_error_points,\n",
    "    data,\n",
    "    left_on='datostøpt',\n",
    "    right_on='Time',\n",
    "    how='inner'\n",
    ")\n",
    "\n",
    "columns_to_drop = ['regnr', 'datoVrakReg', 'antall vrak', 'vrakårsak', 'godkjent', 'Time']\n",
    "cleaned_data = merged_cast_error_with_sensor.drop(columns=columns_to_drop)\n",
    "\n",
    "# Drop rows without any sensor data (NaN values in sensor data columns)\n",
    "sensor_data_columns = [\n",
    "    'Nedbør (12 t)', 'Lufttemperatur', 'Temperature', 'Humidity', 'Temperature inlet',\n",
    "    'Dew Point', 'Temperature_3h_avg', 'Humidity_3h_avg', 'Temperature_inlet_3h_avg',\n",
    "    'Dew_Point_3h_avg', 'Temperature_12h_avg', 'Humidity_12h_avg',\n",
    "    'Temperature_inlet_12h_avg', 'Dew_Point_12h_avg'\n",
    "]\n",
    "cleaned_data = cleaned_data.dropna(subset=sensor_data_columns)\n",
    "\n",
    "# Save the cleaned dataset to a CSV file\n",
    "cleaned_output_file_path = 'merged_data9.csv'\n",
    "cleaned_data.to_csv(cleaned_output_file_path, index=False)"
   ]
  }
 ],
 "metadata": {
  "kernelspec": {
   "display_name": "Python 3",
   "language": "python",
   "name": "python3"
  },
  "language_info": {
   "codemirror_mode": {
    "name": "ipython",
    "version": 3
   },
   "file_extension": ".py",
   "mimetype": "text/x-python",
   "name": "python",
   "nbconvert_exporter": "python",
   "pygments_lexer": "ipython3",
   "version": "3.11.5"
  }
 },
 "nbformat": 4,
 "nbformat_minor": 2
}
