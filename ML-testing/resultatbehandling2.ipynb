{
 "cells": [
  {
   "cell_type": "code",
   "execution_count": 3,
   "metadata": {},
   "outputs": [
    {
     "name": "stdout",
     "output_type": "stream",
     "text": [
      "                    Nedbør_12t Lufttemperatur Middelvind Vindretning  \\\n",
      "Tid                                                                    \n",
      "NaT                        NaN            NaN        NaN         NaN   \n",
      "2023-05-01 01:00:00          -              0          -           -   \n",
      "2023-05-01 01:00:00          -            2,5        4,1         279   \n",
      "2023-05-01 02:00:00          -           -0,1          -           -   \n",
      "2023-05-01 02:00:00          -            2,2        2,7         283   \n",
      "...                        ...            ...        ...         ...   \n",
      "2023-05-05 02:00:00          -            0,1          -           -   \n",
      "2023-05-05 02:00:00          -            0,5        3,8          51   \n",
      "2023-05-05 03:00:00          -            0,1          -           -   \n",
      "2023-05-05 03:00:00          -           -0,4        3,9          32   \n",
      "2023-05-05 04:00:00          -           -1,3          -           -   \n",
      "\n",
      "                     Probe temp 429  Temp BALE innL 6480  \n",
      "Tid                                                       \n",
      "NaT                             NaN                  NaN  \n",
      "2023-05-01 01:00:00             NaN                  NaN  \n",
      "2023-05-01 01:00:00             NaN                  NaN  \n",
      "2023-05-01 02:00:00             NaN                  NaN  \n",
      "2023-05-01 02:00:00             NaN                  NaN  \n",
      "...                             ...                  ...  \n",
      "2023-05-05 02:00:00             NaN                  NaN  \n",
      "2023-05-05 02:00:00             NaN                  NaN  \n",
      "2023-05-05 03:00:00             NaN                  NaN  \n",
      "2023-05-05 03:00:00             NaN                  NaN  \n",
      "2023-05-05 04:00:00             NaN                  NaN  \n",
      "\n",
      "[200 rows x 6 columns]\n"
     ]
    }
   ],
   "source": [
    "import pandas as pd\n",
    "\n",
    "# Load the CSV files\n",
    "weather2_df = pd.read_csv('weather2.csv', delimiter=';')\n",
    "probe_temp_429_df = pd.read_csv('sensordata/Probe temp 429.csv', delimiter=';')\n",
    "temp_bale_innl_6480_df = pd.read_csv('sensordata/Temp BALE innL 6480.csv', delimiter=';')\n",
    "\n",
    "# Clean and parse the weather2_df\n",
    "weather2_df.columns = ['Navn', 'Stasjon', 'Tid', 'Nedbør_12t', 'Lufttemperatur', 'Middelvind', 'Vindretning']\n",
    "weather2_df['Tid'] = pd.to_datetime(weather2_df['Tid'], format='%d.%m.%Y %H:%M')\n",
    "weather2_df.set_index('Tid', inplace=True)\n",
    "\n",
    "# Clean and parse the probe_temp_429_df\n",
    "probe_temp_429_df.columns = ['sn', 'epoch_time', 'unit', 'value', 'timestamp']\n",
    "probe_temp_429_df['timestamp'] = pd.to_datetime(probe_temp_429_df['timestamp'], format='%a, %d %b %Y %H:%M:%S %Z')\n",
    "probe_temp_429_df.set_index('timestamp', inplace=True)\n",
    "probe_temp_429_df.drop(columns=['sn', 'epoch_time', 'unit'], inplace=True)\n",
    "\n",
    "# Clean and parse the temp_bale_innl_6480_df\n",
    "temp_bale_innl_6480_df.columns = ['sn', 'epoch_time', 'unit', 'value', 'timestamp']\n",
    "temp_bale_innl_6480_df['timestamp'] = pd.to_datetime(temp_bale_innl_6480_df['epoch_time'], unit='ms')\n",
    "temp_bale_innl_6480_df.set_index('timestamp', inplace=True)\n",
    "temp_bale_innl_6480_df.drop(columns=['sn', 'epoch_time', 'unit'], inplace=True)\n",
    "\n",
    "# Ensure all datetime indices are timezone-naive\n",
    "weather2_df.index = weather2_df.index.tz_localize(None)\n",
    "probe_temp_429_df.index = probe_temp_429_df.index.tz_localize(None)\n",
    "temp_bale_innl_6480_df.index = temp_bale_innl_6480_df.index.tz_localize(None)\n",
    "\n",
    "# Remove duplicates\n",
    "probe_temp_429_df = probe_temp_429_df[~probe_temp_429_df.index.duplicated(keep='first')]\n",
    "temp_bale_innl_6480_df = temp_bale_innl_6480_df[~temp_bale_innl_6480_df.index.duplicated(keep='first')]\n",
    "\n",
    "# Resample the sensor dataframes to hourly frequency\n",
    "probe_temp_429_df_resampled = probe_temp_429_df.resample('1H').nearest()\n",
    "probe_temp_429_df_resampled.rename(columns={'value': 'Probe temp 429'}, inplace=True)\n",
    "\n",
    "temp_bale_innl_6480_df_resampled = temp_bale_innl_6480_df.resample('1H').nearest()\n",
    "temp_bale_innl_6480_df_resampled.rename(columns={'value': 'Temp BALE innL 6480'}, inplace=True)\n",
    "\n",
    "# Join the dataframes\n",
    "combined_df = weather2_df.join(probe_temp_429_df_resampled, how='outer').join(temp_bale_innl_6480_df_resampled, how='outer')\n",
    "\n",
    "# Select and rearrange columns\n",
    "combined_df = combined_df[['Nedbør_12t', 'Lufttemperatur', 'Middelvind', 'Vindretning', 'Probe temp 429', 'Temp BALE innL 6480']]\n",
    "\n",
    "# Display the first few rows of the combined dataframe\n",
    "print(combined_df.head(200))\n"
   ]
  }
 ],
 "metadata": {
  "kernelspec": {
   "display_name": "Python 3",
   "language": "python",
   "name": "python3"
  },
  "language_info": {
   "codemirror_mode": {
    "name": "ipython",
    "version": 3
   },
   "file_extension": ".py",
   "mimetype": "text/x-python",
   "name": "python",
   "nbconvert_exporter": "python",
   "pygments_lexer": "ipython3",
   "version": "3.11.5"
  }
 },
 "nbformat": 4,
 "nbformat_minor": 2
}
